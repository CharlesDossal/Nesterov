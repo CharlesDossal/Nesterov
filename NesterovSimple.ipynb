{
 "cells": [
  {
   "cell_type": "code",
   "execution_count": null,
   "metadata": {},
   "outputs": [],
   "source": [
    "import panel as pn\n",
    "import param\n",
    "import holoviews as hv,panel as pn,param\n",
    "import holoviews as hv\n",
    "from holoviews import streams\n",
    "hv.extension('bokeh')\n",
    "from holoviews.operation.datashader import datashade\n",
    "import numpy as np\n",
    "from panel.pane import LaTeX\n"
   ]
  },
  {
   "cell_type": "code",
   "execution_count": null,
   "metadata": {},
   "outputs": [],
   "source": [
    "def Nesterov(p,h,alpha,Nb,x0):\n",
    "    x=np.zeros(Nb)\n",
    "    x[0]=x0\n",
    "    x[1]=x0-h*p*(x[0])**(p-1)\n",
    "    y=np.copy(x)\n",
    "    for k in range(1,Nb-1):\n",
    "        y[k+1]=x[k]+(k/(k+alpha))*(x[k]-x[k-1])\n",
    "        x[k+1]=y[k+1]-h*p*np.sign(y[k+1])*(np.abs(y[k+1])**(p-1))\n",
    "    return x"
   ]
  },
  {
   "cell_type": "code",
   "execution_count": null,
   "metadata": {},
   "outputs": [],
   "source": [
    "def rate(alpha,p):\n",
    "    if p<=2:\n",
    "        return 2*alpha*p/(p+2)\n",
    "    if p>2:\n",
    "        return min(2*alpha*p/(p+2),2*p/(p-2))"
   ]
  },
  {
   "cell_type": "code",
   "execution_count": null,
   "metadata": {},
   "outputs": [],
   "source": [
    "PMAX=8\n",
    "ALPHAMAX=7\n",
    "p= np.arange(1, PMAX,0.01)\n",
    "alpha = np.arange(0, ALPHAMAX, 0.01)\n",
    "A,P= np.meshgrid(alpha,p)\n",
    "vrate=np.vectorize(rate)\n",
    "R=vrate(A,P)\n",
    "Rate = hv.Dataset((alpha, p,R),['alpha', 'p'], 'rate')\n",
    "RateVisu=Rate.to(hv.Image, ['alpha', 'p'])\n",
    "C1=RateVisu.sample(p=2)\n",
    "hv.Curve(C1).redim.range(alpha=(0, ALPHAMAX),rate=(0, 4.0))\n",
    "#print(C1)"
   ]
  },
  {
   "cell_type": "code",
   "execution_count": null,
   "metadata": {},
   "outputs": [],
   "source": []
  },
  {
   "cell_type": "code",
   "execution_count": null,
   "metadata": {},
   "outputs": [],
   "source": [
    "alpha=3\n",
    "p=3"
   ]
  },
  {
   "cell_type": "code",
   "execution_count": null,
   "metadata": {},
   "outputs": [],
   "source": [
    "def nesterov(alpha,p,x0=1,step=0.0000005,T = 70):\n",
    "    Nb=int(np.floor(T/np.sqrt(step)))\n",
    "    xnest=Nesterov(p,step,alpha,Nb,x0)\n",
    "    sousech = 10\n",
    "    xrescale=np.abs(xnest[0::sousech])**p*np.arange(0,Nb,sousech)**rate(alpha,p)\n",
    "    xrescale = xrescale/np.max(xrescale)\n",
    "    n1=len(xrescale)\n",
    "    time=np.linspace(0,T,n1)\n",
    "    pt=\"%2.2f\" % rate(alpha,p)\n",
    "    #pt=str(rate(alpha,p))\n",
    "    stral=str(alpha)\n",
    "    strp=str(p)\n",
    "    te1='alpha='+stral+', p='+strp\n",
    "    formula='$\\alpha$'\n",
    "    te2='Expected rate : '+pt\n",
    "    TN=pn.Column(LaTeX(te1,size=25,dpi=100),LaTeX(te2,size=25,dpi=100))\n",
    "    #ht=hv.Text(T/2, 0.8, 'Expected rate : '+pt).opts(text_font_size='18pt')\n",
    "    h = hv.Scatter(xnest[0::10],kdims='n',vdims = 'fonctionelle').options(width=600)\n",
    "    h2 = pn.Row(hv.Scatter((time,xrescale),kdims='time',vdims = 'rescale').options(width=600),TN)\n",
    "    return h2"
   ]
  },
  {
   "cell_type": "code",
   "execution_count": null,
   "metadata": {},
   "outputs": [],
   "source": [
    "p=3\n",
    "alpha=4\n",
    "nesterov(alpha,p,x0=1,step=0.000005,T = 1400)"
   ]
  },
  {
   "cell_type": "code",
   "execution_count": null,
   "metadata": {},
   "outputs": [],
   "source": [
    "p=3\n",
    "alpha=1\n",
    "nesterov(alpha,p,x0=1,step=0.0000005,T = 50)"
   ]
  },
  {
   "cell_type": "code",
   "execution_count": null,
   "metadata": {},
   "outputs": [],
   "source": [
    "p=5\n",
    "alpha=1\n",
    "nesterov(alpha,p,x0=1,step=0.0000005,T = 100)"
   ]
  },
  {
   "cell_type": "code",
   "execution_count": null,
   "metadata": {},
   "outputs": [],
   "source": [
    "p=2\n",
    "alpha=3\n",
    "nesterov(alpha,p,x0=1,step=0.0000001,T = 20)"
   ]
  },
  {
   "cell_type": "code",
   "execution_count": null,
   "metadata": {},
   "outputs": [],
   "source": [
    "p=1.5\n",
    "alpha=3\n",
    "nesterov(alpha,p,x0=1,step=0.00000001,T = 15)"
   ]
  },
  {
   "cell_type": "code",
   "execution_count": null,
   "metadata": {},
   "outputs": [],
   "source": []
  }
 ],
 "metadata": {
  "kernelspec": {
   "display_name": "Python 3",
   "language": "python",
   "name": "python3"
  },
  "language_info": {
   "codemirror_mode": {
    "name": "ipython",
    "version": 3
   },
   "file_extension": ".py",
   "mimetype": "text/x-python",
   "name": "python",
   "nbconvert_exporter": "python",
   "pygments_lexer": "ipython3",
   "version": "3.6.8"
  },
  "latex_envs": {
   "LaTeX_envs_menu_present": true,
   "autoclose": false,
   "autocomplete": true,
   "bibliofile": "biblio.bib",
   "cite_by": "apalike",
   "current_citInitial": 1,
   "eqLabelWithNumbers": true,
   "eqNumInitial": 1,
   "hotkeys": {
    "equation": "Ctrl-E",
    "itemize": "Ctrl-I"
   },
   "labels_anchors": false,
   "latex_user_defs": false,
   "report_style_numbering": false,
   "user_envs_cfg": false
  }
 },
 "nbformat": 4,
 "nbformat_minor": 2
}
