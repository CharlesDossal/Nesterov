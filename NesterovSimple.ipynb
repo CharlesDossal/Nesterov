{
 "cells": [
  {
   "cell_type": "code",
   "execution_count": null,
   "metadata": {},
   "outputs": [],
   "source": [
    "#!pip install panel\n",
    "#!pip install holoviews\n",
    "import panel as pn\n",
    "import param\n",
    "import holoviews as hv,panel as pn,param\n",
    "import holoviews as hv\n",
    "from holoviews import streams\n",
    "hv.extension('bokeh')\n",
    "import numpy as np\n"
   ]
  },
  {
   "cell_type": "code",
   "execution_count": null,
   "metadata": {},
   "outputs": [],
   "source": [
    "def Prox(z,h,p):\n",
    "    eps=0.00001\n",
    "    # Calcule le prox de la focntion h*F où F(x)=x^p au point z pour p>1\n",
    "    x=z\n",
    "    for k in np.arange(3):\n",
    "        x=x-(h*p*np.sign(x)*(np.abs(x))**(p-1)+x-z)/(h*p*(p-1)*np.sign(x)*(np.abs(x))**(p-2)+1)\n",
    "    f=h*p*np.sign(x)*(np.abs(x))**(p-1)+x-z\n",
    "    return x,f\n"
   ]
  },
  {
   "cell_type": "code",
   "execution_count": null,
   "metadata": {},
   "outputs": [],
   "source": [
    "x,f=Prox(2,0.01,1.5)\n",
    "print(x,f)"
   ]
  },
  {
   "cell_type": "code",
   "execution_count": null,
   "metadata": {},
   "outputs": [],
   "source": [
    "def Nesterov(p,h,alpha,Nb,x0):\n",
    "    x=np.zeros(Nb)\n",
    "    x[0]=x0\n",
    "    x[1]=x0-h*p*(x[0])**(p-1)\n",
    "    y=np.copy(x)\n",
    "    for k in range(1,Nb-1):\n",
    "        y[k+1]=x[k]+(k/(k+alpha))*(x[k]-x[k-1])\n",
    "        if p<2:\n",
    "            x[k+1],f=Prox(y[k+1],h,p)\n",
    "        else:\n",
    "            x[k+1]=y[k+1]-h*p*np.sign(y[k+1])*(np.abs(y[k+1])**(p-1))\n",
    "    return x"
   ]
  },
  {
   "cell_type": "code",
   "execution_count": null,
   "metadata": {},
   "outputs": [],
   "source": [
    "def rate(alpha,p):\n",
    "    if p<=2:\n",
    "        return 2*alpha*p/(p+2)\n",
    "    if p>2:\n",
    "        return min(2*alpha*p/(p+2),2*p/(p-2))"
   ]
  },
  {
   "cell_type": "code",
   "execution_count": null,
   "metadata": {},
   "outputs": [],
   "source": [
    "PMAX=8\n",
    "ALPHAMAX=7\n",
    "p= np.arange(1, PMAX,0.01)\n",
    "alpha = np.arange(0, ALPHAMAX, 0.01)\n",
    "A,P= np.meshgrid(alpha,p)\n",
    "vrate=np.vectorize(rate)\n",
    "R=vrate(A,P)\n",
    "Rate = hv.Dataset((alpha, p,R),['alpha', 'p'], 'rate')\n",
    "RateVisu=Rate.to(hv.Image, ['alpha', 'p'])\n",
    "C1=RateVisu.sample(p=5)\n",
    "C2=RateVisu.sample(p=2)\n",
    "C3=RateVisu.sample(p=1.5)\n",
    "C4=RateVisu.sample(p=3)\n",
    "hv.Curve(C2).opts(color='r',width=600,line_dash='dotted')\\\n",
    "*hv.Curve(C3).opts(color='g',line_dash='dashed')\\\n",
    "*hv.Curve(C4).opts(color='c',line_dash='dashdot')\\\n",
    "*hv.Curve(C1).opts(color='k',line_dash='solid').redim.range(alpha=(0, ALPHAMAX),rate=(0, 8.0))"
   ]
  },
  {
   "cell_type": "code",
   "execution_count": null,
   "metadata": {},
   "outputs": [],
   "source": [
    "def nesterov(alpha,p,x0=1,step=0.0000005,T = 70):\n",
    "    Nb=int(np.floor(T/np.sqrt(step)))\n",
    "    xnest=Nesterov(p,step,alpha,Nb,x0)\n",
    "    sousech = 10\n",
    "    xrescale=np.abs(xnest[0::sousech])**p*np.arange(0,Nb,sousech)**rate(alpha,p)\n",
    "    xrescale = xrescale/np.max(xrescale)\n",
    "    n1=len(xrescale)\n",
    "    time=np.linspace(0,T,n1)\n",
    "    pt=\"%2.2f\" % rate(alpha,p)\n",
    "    stral=str(alpha)\n",
    "    strp=str(p)\n",
    "    te1='alpha='+stral+', gamma='+strp\n",
    "    formula='$\\alpha$'\n",
    "    te2='Expected rate : '+pt\n",
    "    #TN=pn.Column(LaTeX(te1,size=25,dpi=100),LaTeX(te2,size=25,dpi=100))\n",
    "    ht1=hv.Text(1/2, 1/3, 'Expected rate : '+pt).opts(text_font_size='18pt').opts(xaxis=None,yaxis=None)\n",
    "    ht2=hv.Text(1/2, 2/3, te1).opts(text_font_size='18pt').opts(xaxis=None,yaxis=None)\n",
    "    ht=ht1*ht2.opts(toolbar=None)\n",
    "    h2 = hv.Curve((time,xrescale),kdims='time',vdims = 'rescale').options(width=600)\n",
    "    return pn.Row(h2,ht)"
   ]
  },
  {
   "cell_type": "code",
   "execution_count": null,
   "metadata": {},
   "outputs": [],
   "source": [
    "p=3\n",
    "alpha=1\n",
    "nesterov(alpha,p,x0=1,step=0.00000001,T = 20)\n"
   ]
  },
  {
   "cell_type": "code",
   "execution_count": null,
   "metadata": {},
   "outputs": [],
   "source": [
    "p=3\n",
    "alpha=4\n",
    "nesterov(alpha,p,x0=1,step=0.0000005,T = 1000)"
   ]
  },
  {
   "cell_type": "code",
   "execution_count": null,
   "metadata": {},
   "outputs": [],
   "source": [
    "p=3\n",
    "alpha=6\n",
    "nesterov(alpha,p,x0=1,step=0.0000005,T = 200)"
   ]
  },
  {
   "cell_type": "code",
   "execution_count": null,
   "metadata": {},
   "outputs": [],
   "source": [
    "p=3\n",
    "alpha=8\n",
    "nesterov(alpha,p,x0=1,step=0.0000001,T = 200)"
   ]
  },
  {
   "cell_type": "code",
   "execution_count": null,
   "metadata": {},
   "outputs": [],
   "source": [
    "p=2\n",
    "alpha=1\n",
    "nesterov(alpha,p,x0=1,step=0.00000001,T = 15)"
   ]
  },
  {
   "cell_type": "code",
   "execution_count": null,
   "metadata": {},
   "outputs": [],
   "source": [
    "p=2\n",
    "alpha=6\n",
    "nesterov(alpha,p,x0=1,step=0.00000001,T = 15)"
   ]
  },
  {
   "cell_type": "code",
   "execution_count": null,
   "metadata": {},
   "outputs": [],
   "source": [
    "p=1.5\n",
    "alpha=6\n",
    "nesterov(alpha,p,x0=1,step=0.00000001,T = 15)"
   ]
  },
  {
   "cell_type": "code",
   "execution_count": null,
   "metadata": {},
   "outputs": [],
   "source": [
    "p=1.5\n",
    "alpha=1\n",
    "nesterov(alpha,p,x0=1,step=0.00000001,T = 15)"
   ]
  },
  {
   "cell_type": "code",
   "execution_count": null,
   "metadata": {},
   "outputs": [],
   "source": []
  }
 ],
 "metadata": {
  "kernelspec": {
   "display_name": "Python 3",
   "language": "python",
   "name": "python3"
  },
  "language_info": {
   "codemirror_mode": {
    "name": "ipython",
    "version": 3
   },
   "file_extension": ".py",
   "mimetype": "text/x-python",
   "name": "python",
   "nbconvert_exporter": "python",
   "pygments_lexer": "ipython3",
   "version": "3.6.8"
  },
  "latex_envs": {
   "LaTeX_envs_menu_present": true,
   "autoclose": false,
   "autocomplete": true,
   "bibliofile": "biblio.bib",
   "cite_by": "apalike",
   "current_citInitial": 1,
   "eqLabelWithNumbers": true,
   "eqNumInitial": 1,
   "hotkeys": {
    "equation": "Ctrl-E",
    "itemize": "Ctrl-I"
   },
   "labels_anchors": false,
   "latex_user_defs": false,
   "report_style_numbering": false,
   "user_envs_cfg": false
  }
 },
 "nbformat": 4,
 "nbformat_minor": 2
}
