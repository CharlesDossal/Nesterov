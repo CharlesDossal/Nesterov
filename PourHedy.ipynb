{
 "cells": [
  {
   "cell_type": "code",
   "execution_count": null,
   "metadata": {},
   "outputs": [],
   "source": [
    "import numpy as np\n",
    "import scipy as scp\n",
    "import pylab as pyl\n",
    "import pywt\n",
    "import pandas as pd\n",
    "import holoviews as hv\n",
    "import param\n",
    "import panel as pn\n",
    "from panel.pane import LaTeX\n",
    "hv.extension('bokeh')\n",
    "import warnings\n",
    "warnings.filterwarnings('ignore')\n",
    "from PIL import Image\n",
    "from io import BytesIO\n",
    "import requests\n",
    "import time\n",
    "import itertools\n",
    "import hvplot.pandas\n",
    "from bokeh.models import HoverTool"
   ]
  },
  {
   "cell_type": "markdown",
   "metadata": {},
   "source": [
    "# Nesterov and Gradient Descent."
   ]
  },
  {
   "cell_type": "markdown",
   "metadata": {},
   "source": [
    "The following scheme compute the trajectory of the solution of \n",
    "\\begin{equation}\n",
    "\\ddot{x}(t)+\\frac{\\alpha}{t}\\dot{x}(t)+\\nabla F(x(t))=0\n",
    "\\end{equation}\n",
    "for $F(x)=\\frac{\\mu}{2}x^2$ with initial condition $t_0=0$ and $x(t_0)=x_0$ and $\\dot{x}(t_0)=0$"
   ]
  },
  {
   "cell_type": "markdown",
   "metadata": {},
   "source": []
  },
  {
   "cell_type": "code",
   "execution_count": null,
   "metadata": {},
   "outputs": [],
   "source": [
    "def nesterov(x0,h,T,alpha,mu):\n",
    "    t0=0\n",
    "    step=np.sqrt(h)\n",
    "    nb=int(np.floor(T)/step)\n",
    "    x=np.zeros(nb)\n",
    "    x[0]=x0\n",
    "    x[1]=x0-h*2*x[0]\n",
    "    y=np.copy(x)\n",
    "    c=1-mu*h\n",
    "    for k in range(1,nb-1):\n",
    "        y[k+1]=x[k]+(k/(k+alpha))*(x[k]-x[k-1])\n",
    "        #x[k+1]=y[k+1]-mu*h*y[k+1]\n",
    "        x[k+1]=c*y[k+1]\n",
    "    temps=np.linspace(t0,t0+T,nb)\n",
    "    f=mu*x**2/2*temps**alpha\n",
    "    #stralpha=\"%2.2f\" % alpha\n",
    "    #lab='alpha= '+stralpha\n",
    "    xnes=hv.Curve((temps,x),kdims='times',vdims='iterates')\n",
    "    fnes=hv.Curve((temps,f),kdims='times',vdims='rescaled_values')\n",
    "    return xnes,fnes"
   ]
  },
  {
   "cell_type": "code",
   "execution_count": null,
   "metadata": {},
   "outputs": [],
   "source": [
    "def nesterovrescale(x0,h,alpha,mu,T):\n",
    "    t0=0\n",
    "    #T=2*alpha+2\n",
    "    step=np.sqrt(h)\n",
    "    nb=int(np.floor(T)/step)\n",
    "    x=np.zeros(nb)\n",
    "    x[0]=x0\n",
    "    x[1]=x0-h*2*x[0]\n",
    "    y=np.copy(x)\n",
    "    xr=np.copy(x)\n",
    "    c=1-mu*h\n",
    "    for k in range(1,nb-1):\n",
    "        y[k+1]=x[k]+(k/(k+alpha))*(x[k]-x[k-1])\n",
    "        x[k+1]=c*y[k+1]\n",
    "    temps=np.linspace(t0,t0+T,nb)\n",
    "    tempsrescale=temps**2/(2*(alpha+1))\n",
    "    xnes=hv.Curve((tempsrescale,x),kdims='times',vdims='iterates',label='Nesterov Rescaled')\n",
    "\n",
    "    return xnes"
   ]
  },
  {
   "cell_type": "code",
   "execution_count": null,
   "metadata": {},
   "outputs": [],
   "source": [
    "def gradientmux2(x0,step,T,mu):\n",
    "    t0=0\n",
    "    nb=int(np.floor(T)/step)\n",
    "    temps=np.linspace(t0,t0+T)\n",
    "    x=x0*np.exp(-mu*temps)\n",
    "    x_grad=hv.Curve((temps,x),kdims='times',vdims='iterates',label='Gradient')\n",
    "    fx_grad=hv.Curve((temps,(mu*x**2)/2),kdims='times',vdims='iterates')\n",
    "    return x_grad,fx_grad"
   ]
  },
  {
   "cell_type": "code",
   "execution_count": null,
   "metadata": {},
   "outputs": [],
   "source": [
    "x0=1\n",
    "mu=1\n",
    "alpha=20\n",
    "T=5\n",
    "h=0.0000001\n",
    "step=np.sqrt(h)\n",
    "options = dict(width=800,height=250,toolbar=None)\n",
    "xnes=nesterovrescale(x0,h,alpha,mu,np.sqrt(2*(alpha+1)*T))\n",
    "#xnes\n",
    "x_grad,fx_grad=gradientmux2(x0,h,T,mu)\n",
    "pn.Column(xnes[0:T].opts(**options)*x_grad.opts(**options))"
   ]
  },
  {
   "cell_type": "code",
   "execution_count": null,
   "metadata": {},
   "outputs": [],
   "source": [
    "class Nesterov_Rescaled(param.Parameterized):\n",
    "    alpha = param.Number(5,bounds=(3,500))\n",
    "    logh = param.Number(-7,bounds=(-10,0))\n",
    "    T = param.Number(3,bounds=(1,10))\n",
    "    def view(self):\n",
    "        x0=1\n",
    "        mu=1\n",
    "        h=10**self.logh\n",
    "        T2=np.sqrt(2*(self.alpha+1)*self.T)\n",
    "        xnes=nesterovrescale(x0,h,self.alpha,mu,T2)\n",
    "        x_grad,fx_grad=gradientmux2(x0,h,T,mu)\n",
    "        options = dict(width=670,height=250,toolbar=None)\n",
    "        return hv.Curve(xnes[0:self.T]).opts(**options)*x_grad[0:self.T].opts(**options)"
   ]
  },
  {
   "cell_type": "markdown",
   "metadata": {},
   "source": [
    "In the Following cell we can compare both solutions of \n",
    "\\begin{equation}\\label{Grad}\\tag{Grad}\n",
    "\\dot{x}(t)+\\nabla F(x(t))=0\n",
    "\\end{equation}\n",
    "and of \n",
    "\\begin{equation}\\label{Nes}\\tag{Nes}\n",
    "\\ddot{x}(t)+\\frac{\\alpha}{t}\\dot{x}(t)+\\nabla F(x(t))=0\n",
    "\\end{equation}\n",
    "when $F(x)=\\frac{\\mu}{2}||x||^2$.\n",
    "More precisely we compute \n",
    "\\begin{enumerate}\n",
    "\\item In red, we display the exact solution of \\eqref{Grad}\n",
    "\\item In blue we display $y(\\sqrt{2(\\alpha+1)t})$ where $y$ is a solution of \\eqref{Nes}. \n",
    "\\end{enumerate}\n",
    "The solution of \\eqref{Nes} is computed using the discret Nesterov scheme with a step $h=10^{logh}$ which can changed in the applet. Initial conditions are set to $t_0=0$, $x(t_0)=1$ for both equations and $\\dot{x}(t_0)=0$ for \\eqref{Nes}. \n",
    "The time $T$ and the value of $\\alpha$ can be changed in the applet."
   ]
  },
  {
   "cell_type": "code",
   "execution_count": null,
   "metadata": {},
   "outputs": [],
   "source": [
    "NesR= Nesterov_Rescaled()\n",
    "pn.Row(NesR.param,NesR.view)"
   ]
  },
  {
   "cell_type": "code",
   "execution_count": null,
   "metadata": {},
   "outputs": [],
   "source": []
  }
 ],
 "metadata": {
  "kernelspec": {
   "display_name": "Python 3",
   "language": "python",
   "name": "python3"
  },
  "language_info": {
   "codemirror_mode": {
    "name": "ipython",
    "version": 3
   },
   "file_extension": ".py",
   "mimetype": "text/x-python",
   "name": "python",
   "nbconvert_exporter": "python",
   "pygments_lexer": "ipython3",
   "version": "3.7.3"
  },
  "latex_envs": {
   "LaTeX_envs_menu_present": true,
   "autoclose": false,
   "autocomplete": true,
   "bibliofile": "biblio.bib",
   "cite_by": "apalike",
   "current_citInitial": 1,
   "eqLabelWithNumbers": true,
   "eqNumInitial": 1,
   "hotkeys": {
    "equation": "Ctrl-E",
    "itemize": "Ctrl-I"
   },
   "labels_anchors": false,
   "latex_user_defs": false,
   "report_style_numbering": false,
   "user_envs_cfg": false
  }
 },
 "nbformat": 4,
 "nbformat_minor": 2
}
