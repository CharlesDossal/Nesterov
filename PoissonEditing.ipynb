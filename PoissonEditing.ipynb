{
 "cells": [
  {
   "cell_type": "markdown",
   "metadata": {},
   "source": [
    "# Poisson editing\n",
    "Adapted by Nicolas Papadakis (IMB) and Charles Dossal (INSA Toulouse) from works by William Emmanuel and Pierre Bénard (LaBRI)"
   ]
  },
  {
   "cell_type": "markdown",
   "metadata": {},
   "source": [
    "## Introduction\n",
    "The goal of this assignment is to apply the Poisson editing algorithm [1] for image blending.\n",
    "\n",
    "In the following, $T$ is a target image,  $S$ a source image,  and a binary mask representing an area $\\Omega$ of $S$ to copy in $T$. All images are defined on the same domain $D$ of sizee $M\\times N$.\n",
    "\n",
    "The idea of [1] is to copy the spatial gradients $\\nabla S$ of the source image inside $T$, and not the color values $S$. As illustrated below, this gives more realistic blendings.\n",
    "\n",
    "\n",
    "<table align=\"center\"><tr><td><img src=\"./img/target_Boat.png\" style=\"width: 200px;\"></td><td><img src=\"./img/source_Kraken.png\" style=\"width: 200px;\"></td><td><img src=\"./img/mask_kraken.png\" style=\"width: 200px;\"></td><td><img src=\"./img/naive.png\" style=\"width: 200px;\"></td><td><img src=\"./img/poisson_blending.png\" style=\"width: 200px;\"></td></tr>\n",
    "<tr><td>Target $T$</td><td>Source $S$</td><td>Mask</td><td>Naive copy/paste of $S$</td><td>Poisson blending [1]: copy of $\\nabla S$</td></tr>\n",
    "</table>\n",
    "\n",
    "\n",
    "\n",
    "\n",
    "\n",
    "To realize such blending, we find an image $u$ solution of:\n",
    "\n",
    "$$\\min_u \\int_\\Omega ||\\nabla u-\\nabla S||^2,$$\n",
    "under the constraint $u_{D\\backslash \\Omega}=T$.\n",
    "\n",
    "This problem can be stated as follow\n",
    "\\begin{equation*}\n",
    "\\min_u \\int_\\Omega ||\\nabla u-\\nabla S||^2+\\iota_{K}(u)\n",
    "\\end{equation*}\n",
    "where $K$ is the set of images which coincide with the target out of the mask. \n",
    "We can observe that the set $K$ is a closed convex set... Why ?\n",
    "\n",
    "In this setting we can use the projected gradient which is a particular case of the Forward backward algorithm to solve this problem of fusion of images.\n",
    "\n",
    "We will study two examples but you can try others on your own.\n",
    "The data can be found at the following adress :\n",
    "\n",
    "http://dl.free.fr/rm.pl?h=bOSoNRP4l&i=93426714&s=mwWbk2t533WxFMxD47ERDuR9MlkDPwc8\n"
   ]
  },
  {
   "cell_type": "code",
   "execution_count": null,
   "metadata": {},
   "outputs": [],
   "source": [
    "import numpy as np\n",
    "import scipy as scp\n",
    "import pylab as pyl\n",
    "import pywt\n",
    "import pandas as pd\n",
    "import holoviews as hv\n",
    "import param\n",
    "import panel as pn\n",
    "import matplotlib.pyplot as plt\n",
    "from panel.pane import LaTeX\n",
    "hv.extension('bokeh')\n",
    "import warnings\n",
    "warnings.filterwarnings('ignore')\n",
    "from PIL import Image\n",
    "\n"
   ]
  },
  {
   "cell_type": "code",
   "execution_count": null,
   "metadata": {},
   "outputs": [],
   "source": [
    "caselist=['Kraken', 'MonaLisa']"
   ]
  },
  {
   "cell_type": "code",
   "execution_count": null,
   "metadata": {},
   "outputs": [],
   "source": [
    "def chargeData(name):\n",
    "    if name=='Kraken':\n",
    "        target=np.array(Image.open(\"./img/target_Boat.png\")).astype(float)\n",
    "        source=np.array(Image.open(\"./img/source_Kraken.png\")).astype(float)\n",
    "        mask2=np.array(Image.open(\"./img/mask_Kraken.png\")).astype(float)/255\n",
    "    if name=='MonaLisa':\n",
    "        target=np.array(Image.open(\"./img/Joconde.jpg\")).astype(float)\n",
    "        source=np.array(Image.open(\"./img/source_Heisenberg.jpeg\")).astype(float)\n",
    "        mask2=np.array(Image.open(\"./img/mask_joconde.jpeg\")).astype(float)/255\n",
    "    return target,source,mask2"
   ]
  },
  {
   "cell_type": "markdown",
   "metadata": {},
   "source": [
    "Have a look to the two set of data."
   ]
  },
  {
   "cell_type": "code",
   "execution_count": null,
   "metadata": {},
   "outputs": [],
   "source": [
    "target,source,mask2=chargeData('MonaLisa')\n",
    "optionsRGB=dict(width=300,height=300,xaxis=None,yaxis=None,toolbar=None)\n",
    "optionsGray=dict(cmap='gray',width=300,height=300,xaxis=None,yaxis=None,toolbar=None)\n",
    "pn.Row(hv.RGB(target.astype('uint8')).opts(**optionsRGB),hv.RGB(source.astype('uint8')).opts(**optionsRGB),hv.Image((mask2*255).astype('uint8')).opts(**optionsGray))"
   ]
  },
  {
   "cell_type": "markdown",
   "metadata": {},
   "source": [
    "In the following we are giving some discrete gradient and associated divergence."
   ]
  },
  {
   "cell_type": "code",
   "execution_count": null,
   "metadata": {},
   "outputs": [],
   "source": [
    "def GradientHor(x):\n",
    "    y=x-np.roll(x,1,axis=1)\n",
    "    y[:,0]=0\n",
    "    return y\n",
    "def GradientVer(x):\n",
    "    y=x-np.roll(x,1,axis=0)\n",
    "    y[0,:]=0\n",
    "    return y\n",
    "def DivHor(x):\n",
    "    N=len(x[0])\n",
    "    y=x-np.roll(x,-1,axis=1)\n",
    "    y[:,0]=-x[:,1]\n",
    "    y[:,N-1]=x[:,N-1]\n",
    "    return y\n",
    "def DivVer(x):\n",
    "    N=len(x)\n",
    "    y=x-np.roll(x,-1,axis=0)\n",
    "    y[0,:]=-x[1,:]\n",
    "    y[N-1,:]=x[N-1,:]\n",
    "    return y\n",
    "def Gradient(x):\n",
    "    y=[]\n",
    "    y.append(GradientHor(x))\n",
    "    y.append(GradientVer(x))\n",
    "    return y\n",
    "def Div(y):\n",
    "    x=DivHor(y[0])+DivVer(y[1])\n",
    "    return x"
   ]
  },
  {
   "cell_type": "markdown",
   "metadata": {},
   "source": [
    "Define the two functions Projection and Gradient that will be necessary to compute the projected gradient. What is the Lipschitz constant of the gradient of $x\\mapsto \\Vert\\nabla x -y\\Vert_2^2$ ?"
   ]
  },
  {
   "cell_type": "code",
   "execution_count": null,
   "metadata": {},
   "outputs": [],
   "source": [
    "def Proj(im,ma,iref):\n",
    "    res=im*ma+(1-ma)*iref\n",
    "    return res\n",
    "def GradientFonc(x,y):\n",
    "    g=Gradient(x)\n",
    "    r1=g[0]-y[0]\n",
    "    r2=g[1]-y[1]\n",
    "    res=DivHor(r1)+DivVer(r2)\n",
    "    return res"
   ]
  },
  {
   "cell_type": "markdown",
   "metadata": {},
   "source": [
    "In the first step we divide the source and the target into the three chanels"
   ]
  },
  {
   "cell_type": "code",
   "execution_count": null,
   "metadata": {},
   "outputs": [],
   "source": [
    "target0=target[:,:,0]\n",
    "source0=source[:,:,0]\n",
    "target1=target[:,:,1]\n",
    "source1=source[:,:,1]\n",
    "target2=target[:,:,2]\n",
    "source2=source[:,:,2]"
   ]
  },
  {
   "cell_type": "markdown",
   "metadata": {},
   "source": [
    "Compute then a naive fusion with a simple projection."
   ]
  },
  {
   "cell_type": "code",
   "execution_count": null,
   "metadata": {},
   "outputs": [],
   "source": [
    "res0=Proj(source0,mask2,target0)\n",
    "res1=Proj(source1,mask2,target1)\n",
    "res2=Proj(source2,mask2,target2)\n",
    "res=target.copy()\n",
    "res[:,:,0]=res0#np.abs(res0-source0)*mask2\n",
    "res[:,:,1]=res1#np.abs(res1-source1)*mask2\n",
    "res[:,:,2]=res2#np.abs(res2-source2)*mask2\n",
    "res_naive=res.copy()\n",
    "hv.RGB(res_naive.astype('uint8')).opts(**optionsRGB)"
   ]
  },
  {
   "cell_type": "markdown",
   "metadata": {},
   "source": [
    "Write a function  FBPoissonEditing that compute the projected gradient on a grayscale image (single color chanel). Don't forget to clip the image at the end.\n",
    "The function must return the last iterate of the sequence and a curve of the values of iterates (that can be sampled for example with only at most 100 or 200 values) "
   ]
  },
  {
   "cell_type": "code",
   "execution_count": null,
   "metadata": {},
   "outputs": [],
   "source": [
    "def FBPoissonEditing(targ,sour,ma,step,Niter):\n",
    "    x=np.copy(sour)\n",
    "    y=Gradient(sour)\n",
    "    for k in range(0,Niter):\n",
    "        temp=x-step*GradientFonc(x,y)\n",
    "        x=Proj(temp,ma,targ)  \n",
    "    return np.clip(x,0,255)"
   ]
  },
  {
   "cell_type": "code",
   "execution_count": null,
   "metadata": {},
   "outputs": [],
   "source": []
  },
  {
   "cell_type": "code",
   "execution_count": null,
   "metadata": {},
   "outputs": [],
   "source": [
    "def FBPoissonEditing2(targ,sour,ma,step,Niter):\n",
    "    x=np.copy(sour)\n",
    "    y=Gradient(sour)\n",
    "    diff=max(int(np.floor(Niter/100)),1)\n",
    "    nbaffichage=int(np.floor(Niter/diff))\n",
    "    f=np.zeros(nbaffichage)\n",
    "    count=0 \n",
    "    for k in range(0,Niter):\n",
    "        temp=x-step*GradientFonc(x,y)\n",
    "        x=Proj(temp,ma,targ)\n",
    "        if np.mod(k,diff)==0 and (count<nbaffichage):\n",
    "            z=Gradient(x)\n",
    "            f[count]=np.linalg.norm(z[0]-y[0],'fro')+np.linalg.norm(z[1]-y[1],'fro')\n",
    "            count=count+1\n",
    "    return np.clip(x,0,255),f[10:]"
   ]
  },
  {
   "cell_type": "markdown",
   "metadata": {},
   "source": [
    "Test the function with a step smaller than $1/4$ and 1000 iterations and compare the result with a naive approach. To get the result on a color image, the previous algorithm must be used on each color channel and the 3 output must be gather in a single color image."
   ]
  },
  {
   "cell_type": "code",
   "execution_count": null,
   "metadata": {},
   "outputs": [],
   "source": [
    "step=1/4\n",
    "niter=265\n",
    "res0,f0=FBPoissonEditing2(target0,source0,mask2,step,niter)\n",
    "res1,f1=FBPoissonEditing2(target1,source1,mask2,step,niter)\n",
    "res2,f2=FBPoissonEditing2(target2,source2,mask2,step,niter)\n",
    "res=target.copy()\n",
    "res[:,:,0]=res0\n",
    "res[:,:,1]=res1\n",
    "res[:,:,2]=res2\n",
    "pn.Row(hv.RGB(res_naive.astype('uint8')).opts(**optionsRGB),hv.RGB(res.astype('uint8')).opts(**optionsRGB),hv.Curve(f0+f1+f2).opts(xaxis=None,toolbar=None))"
   ]
  },
  {
   "cell_type": "markdown",
   "metadata": {},
   "source": [
    "Using panel, create a dashboard to perform the fusion in real time. The output may be four figures with the source, the target, the fusion and the curve of the decay of the function to minimize. \n",
    "The step in the gradient descend used in the algorithm will be $self.step/8$. Hence when the variable step will be set to 1, the step in the gradient descent will be exactly equal to the Lipschitz constant of the gradient of $f$."
   ]
  },
  {
   "cell_type": "code",
   "execution_count": null,
   "metadata": {},
   "outputs": [],
   "source": [
    "class FBFusion(param.Parameterized):\n",
    "    case = param.ObjectSelector(default='Kraken',objects=caselist)\n",
    "    Niter = param.Integer(100,bounds=(10,3000))\n",
    "    step = param.Number(1,bounds=(0.1,4))\n",
    "    def view(self):\n",
    "        target,source,mask2=chargeData(self.case)\n",
    "        step=self.step/8\n",
    "        niter=self.Niter\n",
    "        target0=target[:,:,0]\n",
    "        source0=source[:,:,0]\n",
    "        target1=target[:,:,1]\n",
    "        source1=source[:,:,1]\n",
    "        target2=target[:,:,2]\n",
    "        source2=source[:,:,2]       \n",
    "        res0,f0=FBPoissonEditing2(target0,source0,mask2,step,niter)\n",
    "        res1,f1=FBPoissonEditing2(target1,source1,mask2,step,niter)\n",
    "        res2,f2=FBPoissonEditing2(target2,source2,mask2,step,niter)\n",
    "        res=target.copy()\n",
    "        res[:,:,0]=res0\n",
    "        res[:,:,1]=res1\n",
    "        res[:,:,2]=res2\n",
    "        n=len(f0)/2\n",
    "        fmin=np.min(f0+f1+f2)\n",
    "        fmax=np.max(f0+f1+f2)\n",
    "        strfmin=\"%2.2f\" % fmin\n",
    "        Courbe=hv.Curve(f0+f1+f2)*hv.Text(n,(fmin+fmax)/2,strfmin)\n",
    "        return pn.Row(hv.RGB(res.astype('uint8')).opts(**optionsRGB),Courbe.opts(xaxis=None,toolbar=None))"
   ]
  },
  {
   "cell_type": "markdown",
   "metadata": {},
   "source": [
    "Try the function. "
   ]
  },
  {
   "cell_type": "code",
   "execution_count": null,
   "metadata": {},
   "outputs": [],
   "source": [
    "fbfusion= FBFusion()\n",
    "pn.Row(fbfusion.param,fbfusion.view)"
   ]
  },
  {
   "cell_type": "markdown",
   "metadata": {},
   "source": [
    "Perform a Fusion using FISTA with a parameter $\\alpha$ and create the associated dashboard. \n"
   ]
  },
  {
   "cell_type": "code",
   "execution_count": null,
   "metadata": {},
   "outputs": [],
   "source": [
    "def FISTAPoissonEditing(targ,sour,ma,step,alpha,Niter):\n",
    "    x=np.copy(sour)\n",
    "    y=Gradient(sour)\n",
    "    diff=max(int(np.floor(Niter/100)),1)\n",
    "    nbaffichage=int(np.floor(Niter/diff))\n",
    "    f=np.zeros(nbaffichage)\n",
    "    count=0 \n",
    "    xold=x.copy()\n",
    "    temp=x-step*GradientFonc(x,y)\n",
    "    x=Proj(temp,ma,targ)\n",
    "    for k in range(0,Niter):\n",
    "        x_nes=x+k*(x-xold)/(k+alpha)\n",
    "        xold=x.copy()\n",
    "        temp=x_nes-step*GradientFonc(x_nes,y) \n",
    "        x=Proj(temp,ma,targ)\n",
    "        if np.mod(k,diff)==0 and (count<nbaffichage):\n",
    "            z=Gradient(x)\n",
    "            f[count]=np.linalg.norm(z[0]-y[0],'fro')+np.linalg.norm(z[1]-y[1],'fro')\n",
    "            count=count+1\n",
    "    return np.clip(x,0,255),f[10:]"
   ]
  },
  {
   "cell_type": "code",
   "execution_count": null,
   "metadata": {},
   "outputs": [],
   "source": [
    "target,source,mask2=chargeData('Kraken')\n",
    "target0=target[:,:,0]\n",
    "source0=source[:,:,0]\n",
    "target1=target[:,:,1]\n",
    "source1=source[:,:,1]\n",
    "target2=target[:,:,2]\n",
    "source2=source[:,:,2]\n",
    "step=1/8\n",
    "niter=100\n",
    "alpha=4\n",
    "res0,f0=FISTAPoissonEditing(target0,source0,mask2,step,alpha,niter)\n",
    "res1,f1=FISTAPoissonEditing(target1,source1,mask2,step,alpha,niter)\n",
    "res2,f2=FISTAPoissonEditing(target2,source2,mask2,step,alpha,niter)\n",
    "res=target.copy()\n",
    "res[:,:,0]=res0\n",
    "res[:,:,1]=res1\n",
    "res[:,:,2]=res2\n",
    "fmin=np.min(f0+f1+f2)\n",
    "fmax=np.max(f0+f1+f2)\n",
    "strfmin=\"%2.2f\" % fmin\n",
    "Courbe=hv.Curve(f0+f1+f2)*hv.Text(50,(fmin+fmax)/2,strfmin)\n",
    "pn.Row(hv.RGB(res.astype('uint8')).opts(**optionsRGB),Courbe.opts(xaxis=None,toolbar=None))"
   ]
  },
  {
   "cell_type": "code",
   "execution_count": null,
   "metadata": {},
   "outputs": [],
   "source": [
    "class FISTAFusion(param.Parameterized):\n",
    "    case = param.ObjectSelector(default='Kraken',objects=caselist)\n",
    "    Niter = param.Integer(100,bounds=(10,3000))\n",
    "    step = param.Number(1,bounds=(0.1,4))\n",
    "    alpha = param.Number(3,bounds=(2,15))\n",
    "    def view(self):\n",
    "        target,source,mask2=chargeData(self.case)\n",
    "        step=self.step/8\n",
    "        niter=self.Niter\n",
    "        target0=target[:,:,0]\n",
    "        source0=source[:,:,0]\n",
    "        target1=target[:,:,1]\n",
    "        source1=source[:,:,1]\n",
    "        target2=target[:,:,2]\n",
    "        source2=source[:,:,2]       \n",
    "        res0,f0=FISTAPoissonEditing(target0,source0,mask2,step,self.alpha,niter)\n",
    "        res1,f1=FISTAPoissonEditing(target1,source1,mask2,step,self.alpha,niter)\n",
    "        res2,f2=FISTAPoissonEditing(target2,source2,mask2,step,self.alpha,niter)\n",
    "        res=target.copy()\n",
    "        res[:,:,0]=res0\n",
    "        res[:,:,1]=res1\n",
    "        res[:,:,2]=res2\n",
    "        n=len(f0)/2\n",
    "        fmin=np.min(f0+f1+f2)\n",
    "        fmax=np.max(f0+f1+f2)\n",
    "        strfmin=\"%2.2f\" % fmin\n",
    "        Courbe=hv.Curve(f0+f1+f2)*hv.Text(n,(fmin+fmax)/2,strfmin)\n",
    "        return pn.Row(hv.RGB(res.astype('uint8')).opts(**optionsRGB),Courbe.opts(xaxis=None,toolbar=None)) "
   ]
  },
  {
   "cell_type": "code",
   "execution_count": null,
   "metadata": {
    "scrolled": true
   },
   "outputs": [],
   "source": [
    "fistafusion=FISTAFusion()\n",
    "pn.Row(fistafusion.param,fistafusion.view)"
   ]
  },
  {
   "cell_type": "markdown",
   "metadata": {},
   "source": [
    "Compare in a third dashboard the difference between FB and FISTA.\n",
    "Are the limit on the step the same ?"
   ]
  },
  {
   "cell_type": "code",
   "execution_count": null,
   "metadata": {},
   "outputs": [],
   "source": [
    "class FBvsFISTAFusion(param.Parameterized):\n",
    "    case = param.ObjectSelector(default='Kraken',objects=caselist)\n",
    "    Niter = param.Integer(100,bounds=(10,3000))\n",
    "    step = param.Number(1,bounds=(0.1,4))\n",
    "    alpha = param.Number(3,bounds=(2,15))\n",
    "    def view(self):\n",
    "        target,source,mask2=chargeData(self.case)\n",
    "        step=self.step/8\n",
    "        niter=self.Niter\n",
    "        target0=target[:,:,0]\n",
    "        source0=source[:,:,0]\n",
    "        target1=target[:,:,1]\n",
    "        source1=source[:,:,1]\n",
    "        target2=target[:,:,2]\n",
    "        source2=source[:,:,2]       \n",
    "        res0,f0=FISTAPoissonEditing(target0,source0,mask2,step,self.alpha,niter)\n",
    "        res1,f1=FISTAPoissonEditing(target1,source1,mask2,step,self.alpha,niter)\n",
    "        res2,f2=FISTAPoissonEditing(target2,source2,mask2,step,self.alpha,niter)\n",
    "        res=target.copy()\n",
    "        res[:,:,0]=res0\n",
    "        res[:,:,1]=res1\n",
    "        res[:,:,2]=res2\n",
    "        n=len(f0)/2\n",
    "        fmina=np.min(f0+f1+f2)\n",
    "        fmaxa=np.max(f0+f1+f2)\n",
    "        strfmina=\"%2.2f\" % fmina\n",
    "        res0b,f0b=FBPoissonEditing2(target0,source0,mask2,step,niter)\n",
    "        res1b,f1b=FBPoissonEditing2(target1,source1,mask2,step,niter)\n",
    "        res2b,f2b=FBPoissonEditing2(target2,source2,mask2,step,niter)\n",
    "        resb=target.copy()\n",
    "        resb[:,:,0]=res0b\n",
    "        resb[:,:,1]=res1b\n",
    "        resb[:,:,2]=res2b\n",
    "        fminb=np.min(f0b+f1b+f2b)\n",
    "        fmaxb=np.max(f0b+f1b+f2b)\n",
    "        fmin=min(fmina,fminb)\n",
    "        fmax=max(fmaxa,fmaxb)\n",
    "        strfminb=\"%2.2f\" % fminb\n",
    "        courbe1=hv.Curve(f0+f1+f2)\n",
    "        courbe2=hv.Curve(f0b+f1b+f2b)\n",
    "        text=hv.Text(n,(0.2*fmin+0.8*fmax),'FB')*hv.Text(n,(0.3*fmin+0.7*fmax),strfminb)\\\n",
    "        *hv.Text(n,(0.7*fmin+0.3*fmax),'FISTA')*hv.Text(n,(0.8*fmin+0.2*fmax),strfmina)\n",
    "        courbe=courbe2*courbe1*text\n",
    "        return pn.Column(pn.Row(hv.RGB(res.astype('uint8')).opts(**optionsRGB)\\\n",
    "            ,courbe.opts(xaxis=None,toolbar=None)),hv.RGB(resb.astype('uint8')).opts(**optionsRGB)) "
   ]
  },
  {
   "cell_type": "code",
   "execution_count": null,
   "metadata": {},
   "outputs": [],
   "source": [
    "fbvsfista=FBvsFISTAFusion()\n",
    "pn.Row(fbvsfista.param,fbvsfista.view)"
   ]
  },
  {
   "cell_type": "code",
   "execution_count": null,
   "metadata": {},
   "outputs": [],
   "source": []
  }
 ],
 "metadata": {
  "kernelspec": {
   "display_name": "Python 3",
   "language": "python",
   "name": "python3"
  },
  "language_info": {
   "codemirror_mode": {
    "name": "ipython",
    "version": 3
   },
   "file_extension": ".py",
   "mimetype": "text/x-python",
   "name": "python",
   "nbconvert_exporter": "python",
   "pygments_lexer": "ipython3",
   "version": "3.7.3"
  },
  "latex_envs": {
   "LaTeX_envs_menu_present": true,
   "autoclose": false,
   "autocomplete": true,
   "bibliofile": "biblio.bib",
   "cite_by": "apalike",
   "current_citInitial": 1,
   "eqLabelWithNumbers": true,
   "eqNumInitial": 1,
   "hotkeys": {
    "equation": "Ctrl-E",
    "itemize": "Ctrl-I"
   },
   "labels_anchors": false,
   "latex_user_defs": false,
   "report_style_numbering": false,
   "user_envs_cfg": false
  }
 },
 "nbformat": 4,
 "nbformat_minor": 2
}
